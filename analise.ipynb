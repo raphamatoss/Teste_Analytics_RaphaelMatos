{
 "cells": [
  {
   "metadata": {},
   "cell_type": "markdown",
   "source": "1.1. Limpeza e Análise de Dados de Vendas",
   "id": "83ab1fc000bb34ed"
  },
  {
   "cell_type": "code",
   "id": "initial_id",
   "metadata": {
    "collapsed": true,
    "ExecuteTime": {
     "end_time": "2025-10-03T18:45:29.854859Z",
     "start_time": "2025-10-03T18:45:29.848638Z"
    }
   },
   "source": [
    "import csv\n",
    "\n",
    "import numpy as np\n",
    "\n",
    "produtos = [('Camisa', 'Vestuário', 0),\n",
    "           ('Calça', 'Vestuário', 1),\n",
    "           ('Tênis', 'Vestuário', 2),\n",
    "           ('Meia', 'Vestuário', 3),\n",
    "           ('Casaco', 'Vestuário', 4),\n",
    "           ('Cueca', 'Vestuário', 5),\n",
    "           ('Sunga', 'Vestuário', 6),\n",
    "           ('Maçã', 'Frutas', 7),\n",
    "           ('Pera', 'Frutas', 8),\n",
    "           ('Banana', 'Frutas', 9),\n",
    "           ('Tâmara', 'Frutas', 10),\n",
    "           ('Uva', 'Frutas', 11),\n",
    "           ('Ameixa', 'Frutas', 12),\n",
    "           ('Creme-Dental', 'Higiene', 13),\n",
    "           ('Escova-de-Dente', 'Higiene', 14),\n",
    "           ('Lâmina-de-Barbear', 'Higiene', 15),\n",
    "           ('Absorvente', 'Higiene', 16),\n",
    "           ('Shampoo', 'Higiene', 17),\n",
    "           ('Condicionador', 'Higiene', 18),\n",
    "           ('Fio-Dental', 'Higiene', 19),\n",
    "           ('Coca-Cola', 'Bebidas', 20),\n",
    "           ('Sprite', 'Bebidas', 21),\n",
    "           ('Guaraná', 'Bebidas', 22),\n",
    "           ('Pepsi', 'Bebidas', 23),\n",
    "           ('Água', 'Bebidas', 24),\n",
    "           ('Suco-de-Uva', 'Bebidas', 25),\n",
    "           ('Suco-de-Laranja', 'Bebidas', 26),\n",
    "           ('Bola-de-Futebol', 'Esportes', 27),\n",
    "           ('Bola-de-Vôlei', 'Esportes', 28),\n",
    "           ('Raquete-de-Tênis', 'Esportes', 29),\n",
    "           ('Bola-de-Tênis', 'Esportes', 30),\n",
    "           ('Água-Sanitária', 'Limpeza', 31),\n",
    "           ('Desinfetante', 'Limpeza', 32),\n",
    "           ('Sabão-em-Pó', 'Limpeza', 33),\n",
    "           ('Sabão-de-Coco', 'Limpeza', 34)]\n",
    "len(produtos)"
   ],
   "outputs": [
    {
     "data": {
      "text/plain": [
       "35"
      ]
     },
     "execution_count": 56,
     "metadata": {},
     "output_type": "execute_result"
    }
   ],
   "execution_count": 56
  },
  {
   "metadata": {},
   "cell_type": "markdown",
   "source": "1.1.1. Geração de dataset fictício",
   "id": "5af1d31f05c86322"
  },
  {
   "metadata": {
    "ExecuteTime": {
     "end_time": "2025-10-03T18:45:29.909893Z",
     "start_time": "2025-10-03T18:45:29.878154Z"
    }
   },
   "cell_type": "code",
   "source": "available_months = list(range(1, 13))",
   "id": "1800dad1edb314ed",
   "outputs": [],
   "execution_count": 57
  },
  {
   "metadata": {
    "ExecuteTime": {
     "end_time": "2025-10-03T18:45:29.923241Z",
     "start_time": "2025-10-03T18:45:29.917898Z"
    }
   },
   "cell_type": "code",
   "source": [
    "import random\n",
    "import pandas as pd\n",
    "random.seed(42)\n",
    "\n",
    "def generate_data(produtos: list) -> pd.DataFrame:\n",
    "    available_months = list(range(1, 13))\n",
    "    data = []\n",
    "    for month in available_months:\n",
    "        rows_quantity = random.randint(10, 30) # generates at least 10 rows and a maximum of 30\n",
    "        products_list = random.sample(produtos, rows_quantity)  # selects a unique set of products (no duplicates) for this month\n",
    "        for i in range(rows_quantity):\n",
    "            product = products_list[i]\n",
    "\n",
    "            day = random.randint(1, 28) # [1,28] to avoid date errors such as (2023-02-30)\n",
    "            year = 2023\n",
    "            date_error = random.random()\n",
    "            divider = '-'\n",
    "            if date_error <= 0.4: # there is 40% of chance to use a different divider for the date\n",
    "                divider = '.'\n",
    "            product_date = str(year) + divider + str(month) + divider + str(day)\n",
    "\n",
    "            name, category, id = product\n",
    "\n",
    "            # the hash guarantees that each product will have a base price and the random(0.8, 1.2) generates plausible prices drops and rises\n",
    "            base_price = abs(hash(name)) % 1000\n",
    "            price = base_price * random.uniform(0.8, 1.2)\n",
    "            quantity = random.randint(1, 20)\n",
    "\n",
    "            duplicate = random.random()\n",
    "            if duplicate <= 0.3: # there is 30% of chance to generate duplicates\n",
    "                repeat = 2\n",
    "            else:\n",
    "                repeat = 1\n",
    "\n",
    "            for i in range(repeat):\n",
    "                data.append({'ID': id,\n",
    "                    'Produto': name,\n",
    "                    'Categoria': category,\n",
    "                    'Data': product_date,\n",
    "                    'Quantidade': quantity,\n",
    "                    'Preco': price})\n",
    "\n",
    "    return pd.DataFrame(data)"
   ],
   "id": "5601e9ee0e74e263",
   "outputs": [],
   "execution_count": 58
  },
  {
   "metadata": {
    "ExecuteTime": {
     "end_time": "2025-10-03T18:45:29.942616Z",
     "start_time": "2025-10-03T18:45:29.934356Z"
    }
   },
   "cell_type": "code",
   "source": [
    "df = generate_data(produtos)\n",
    "df"
   ],
   "id": "c2a80e7344463665",
   "outputs": [
    {
     "data": {
      "text/plain": [
       "     ID           Produto  Categoria        Data  Quantidade       Preco\n",
       "0     7              Maçã     Frutas   2023-1-26           6  955.650872\n",
       "1     1             Calça  Vestuário   2023.1.11          11   71.776166\n",
       "2     1             Calça  Vestuário   2023.1.11          11   71.776166\n",
       "3    17           Shampoo    Higiene   2023.1.13          20  879.306260\n",
       "4    17           Shampoo    Higiene   2023.1.13          20  879.306260\n",
       "..   ..               ...        ...         ...         ...         ...\n",
       "359  12            Ameixa     Frutas  2023-12-17          16  921.758959\n",
       "360  12            Ameixa     Frutas  2023-12-17          16  921.758959\n",
       "361  17           Shampoo    Higiene  2023-12-13           1  695.927201\n",
       "362  18     Condicionador    Higiene   2023.12.3           4  992.604179\n",
       "363  29  Raquete-de-Tênis   Esportes  2023-12-24          12  779.121182\n",
       "\n",
       "[364 rows x 6 columns]"
      ],
      "text/html": [
       "<div>\n",
       "<style scoped>\n",
       "    .dataframe tbody tr th:only-of-type {\n",
       "        vertical-align: middle;\n",
       "    }\n",
       "\n",
       "    .dataframe tbody tr th {\n",
       "        vertical-align: top;\n",
       "    }\n",
       "\n",
       "    .dataframe thead th {\n",
       "        text-align: right;\n",
       "    }\n",
       "</style>\n",
       "<table border=\"1\" class=\"dataframe\">\n",
       "  <thead>\n",
       "    <tr style=\"text-align: right;\">\n",
       "      <th></th>\n",
       "      <th>ID</th>\n",
       "      <th>Produto</th>\n",
       "      <th>Categoria</th>\n",
       "      <th>Data</th>\n",
       "      <th>Quantidade</th>\n",
       "      <th>Preco</th>\n",
       "    </tr>\n",
       "  </thead>\n",
       "  <tbody>\n",
       "    <tr>\n",
       "      <th>0</th>\n",
       "      <td>7</td>\n",
       "      <td>Maçã</td>\n",
       "      <td>Frutas</td>\n",
       "      <td>2023-1-26</td>\n",
       "      <td>6</td>\n",
       "      <td>955.650872</td>\n",
       "    </tr>\n",
       "    <tr>\n",
       "      <th>1</th>\n",
       "      <td>1</td>\n",
       "      <td>Calça</td>\n",
       "      <td>Vestuário</td>\n",
       "      <td>2023.1.11</td>\n",
       "      <td>11</td>\n",
       "      <td>71.776166</td>\n",
       "    </tr>\n",
       "    <tr>\n",
       "      <th>2</th>\n",
       "      <td>1</td>\n",
       "      <td>Calça</td>\n",
       "      <td>Vestuário</td>\n",
       "      <td>2023.1.11</td>\n",
       "      <td>11</td>\n",
       "      <td>71.776166</td>\n",
       "    </tr>\n",
       "    <tr>\n",
       "      <th>3</th>\n",
       "      <td>17</td>\n",
       "      <td>Shampoo</td>\n",
       "      <td>Higiene</td>\n",
       "      <td>2023.1.13</td>\n",
       "      <td>20</td>\n",
       "      <td>879.306260</td>\n",
       "    </tr>\n",
       "    <tr>\n",
       "      <th>4</th>\n",
       "      <td>17</td>\n",
       "      <td>Shampoo</td>\n",
       "      <td>Higiene</td>\n",
       "      <td>2023.1.13</td>\n",
       "      <td>20</td>\n",
       "      <td>879.306260</td>\n",
       "    </tr>\n",
       "    <tr>\n",
       "      <th>...</th>\n",
       "      <td>...</td>\n",
       "      <td>...</td>\n",
       "      <td>...</td>\n",
       "      <td>...</td>\n",
       "      <td>...</td>\n",
       "      <td>...</td>\n",
       "    </tr>\n",
       "    <tr>\n",
       "      <th>359</th>\n",
       "      <td>12</td>\n",
       "      <td>Ameixa</td>\n",
       "      <td>Frutas</td>\n",
       "      <td>2023-12-17</td>\n",
       "      <td>16</td>\n",
       "      <td>921.758959</td>\n",
       "    </tr>\n",
       "    <tr>\n",
       "      <th>360</th>\n",
       "      <td>12</td>\n",
       "      <td>Ameixa</td>\n",
       "      <td>Frutas</td>\n",
       "      <td>2023-12-17</td>\n",
       "      <td>16</td>\n",
       "      <td>921.758959</td>\n",
       "    </tr>\n",
       "    <tr>\n",
       "      <th>361</th>\n",
       "      <td>17</td>\n",
       "      <td>Shampoo</td>\n",
       "      <td>Higiene</td>\n",
       "      <td>2023-12-13</td>\n",
       "      <td>1</td>\n",
       "      <td>695.927201</td>\n",
       "    </tr>\n",
       "    <tr>\n",
       "      <th>362</th>\n",
       "      <td>18</td>\n",
       "      <td>Condicionador</td>\n",
       "      <td>Higiene</td>\n",
       "      <td>2023.12.3</td>\n",
       "      <td>4</td>\n",
       "      <td>992.604179</td>\n",
       "    </tr>\n",
       "    <tr>\n",
       "      <th>363</th>\n",
       "      <td>29</td>\n",
       "      <td>Raquete-de-Tênis</td>\n",
       "      <td>Esportes</td>\n",
       "      <td>2023-12-24</td>\n",
       "      <td>12</td>\n",
       "      <td>779.121182</td>\n",
       "    </tr>\n",
       "  </tbody>\n",
       "</table>\n",
       "<p>364 rows × 6 columns</p>\n",
       "</div>"
      ]
     },
     "execution_count": 59,
     "metadata": {},
     "output_type": "execute_result"
    }
   ],
   "execution_count": 59
  },
  {
   "metadata": {},
   "cell_type": "markdown",
   "source": "1.1.2. Limpeza dos dados",
   "id": "7fe0f29152f809b8"
  },
  {
   "metadata": {
    "ExecuteTime": {
     "end_time": "2025-10-03T18:45:29.982383Z",
     "start_time": "2025-10-03T18:45:29.974054Z"
    }
   },
   "cell_type": "code",
   "source": [
    "# remove duplicates\n",
    "df.drop_duplicates(inplace=True)\n",
    "df"
   ],
   "id": "8c0472ca98948dcd",
   "outputs": [
    {
     "data": {
      "text/plain": [
       "     ID            Produto  Categoria        Data  Quantidade       Preco\n",
       "0     7               Maçã     Frutas   2023-1-26           6  955.650872\n",
       "1     1              Calça  Vestuário   2023.1.11          11   71.776166\n",
       "3    17            Shampoo    Higiene   2023.1.13          20  879.306260\n",
       "5    15  Lâmina-de-Barbear    Higiene    2023-1-2          13  597.535338\n",
       "7    34      Sabão-de-Coco    Limpeza   2023-1-10          12  583.406201\n",
       "..   ..                ...        ...         ...         ...         ...\n",
       "358  33        Sabão-em-Pó    Limpeza  2023.12.12          17  157.626109\n",
       "359  12             Ameixa     Frutas  2023-12-17          16  921.758959\n",
       "361  17            Shampoo    Higiene  2023-12-13           1  695.927201\n",
       "362  18      Condicionador    Higiene   2023.12.3           4  992.604179\n",
       "363  29   Raquete-de-Tênis   Esportes  2023-12-24          12  779.121182\n",
       "\n",
       "[280 rows x 6 columns]"
      ],
      "text/html": [
       "<div>\n",
       "<style scoped>\n",
       "    .dataframe tbody tr th:only-of-type {\n",
       "        vertical-align: middle;\n",
       "    }\n",
       "\n",
       "    .dataframe tbody tr th {\n",
       "        vertical-align: top;\n",
       "    }\n",
       "\n",
       "    .dataframe thead th {\n",
       "        text-align: right;\n",
       "    }\n",
       "</style>\n",
       "<table border=\"1\" class=\"dataframe\">\n",
       "  <thead>\n",
       "    <tr style=\"text-align: right;\">\n",
       "      <th></th>\n",
       "      <th>ID</th>\n",
       "      <th>Produto</th>\n",
       "      <th>Categoria</th>\n",
       "      <th>Data</th>\n",
       "      <th>Quantidade</th>\n",
       "      <th>Preco</th>\n",
       "    </tr>\n",
       "  </thead>\n",
       "  <tbody>\n",
       "    <tr>\n",
       "      <th>0</th>\n",
       "      <td>7</td>\n",
       "      <td>Maçã</td>\n",
       "      <td>Frutas</td>\n",
       "      <td>2023-1-26</td>\n",
       "      <td>6</td>\n",
       "      <td>955.650872</td>\n",
       "    </tr>\n",
       "    <tr>\n",
       "      <th>1</th>\n",
       "      <td>1</td>\n",
       "      <td>Calça</td>\n",
       "      <td>Vestuário</td>\n",
       "      <td>2023.1.11</td>\n",
       "      <td>11</td>\n",
       "      <td>71.776166</td>\n",
       "    </tr>\n",
       "    <tr>\n",
       "      <th>3</th>\n",
       "      <td>17</td>\n",
       "      <td>Shampoo</td>\n",
       "      <td>Higiene</td>\n",
       "      <td>2023.1.13</td>\n",
       "      <td>20</td>\n",
       "      <td>879.306260</td>\n",
       "    </tr>\n",
       "    <tr>\n",
       "      <th>5</th>\n",
       "      <td>15</td>\n",
       "      <td>Lâmina-de-Barbear</td>\n",
       "      <td>Higiene</td>\n",
       "      <td>2023-1-2</td>\n",
       "      <td>13</td>\n",
       "      <td>597.535338</td>\n",
       "    </tr>\n",
       "    <tr>\n",
       "      <th>7</th>\n",
       "      <td>34</td>\n",
       "      <td>Sabão-de-Coco</td>\n",
       "      <td>Limpeza</td>\n",
       "      <td>2023-1-10</td>\n",
       "      <td>12</td>\n",
       "      <td>583.406201</td>\n",
       "    </tr>\n",
       "    <tr>\n",
       "      <th>...</th>\n",
       "      <td>...</td>\n",
       "      <td>...</td>\n",
       "      <td>...</td>\n",
       "      <td>...</td>\n",
       "      <td>...</td>\n",
       "      <td>...</td>\n",
       "    </tr>\n",
       "    <tr>\n",
       "      <th>358</th>\n",
       "      <td>33</td>\n",
       "      <td>Sabão-em-Pó</td>\n",
       "      <td>Limpeza</td>\n",
       "      <td>2023.12.12</td>\n",
       "      <td>17</td>\n",
       "      <td>157.626109</td>\n",
       "    </tr>\n",
       "    <tr>\n",
       "      <th>359</th>\n",
       "      <td>12</td>\n",
       "      <td>Ameixa</td>\n",
       "      <td>Frutas</td>\n",
       "      <td>2023-12-17</td>\n",
       "      <td>16</td>\n",
       "      <td>921.758959</td>\n",
       "    </tr>\n",
       "    <tr>\n",
       "      <th>361</th>\n",
       "      <td>17</td>\n",
       "      <td>Shampoo</td>\n",
       "      <td>Higiene</td>\n",
       "      <td>2023-12-13</td>\n",
       "      <td>1</td>\n",
       "      <td>695.927201</td>\n",
       "    </tr>\n",
       "    <tr>\n",
       "      <th>362</th>\n",
       "      <td>18</td>\n",
       "      <td>Condicionador</td>\n",
       "      <td>Higiene</td>\n",
       "      <td>2023.12.3</td>\n",
       "      <td>4</td>\n",
       "      <td>992.604179</td>\n",
       "    </tr>\n",
       "    <tr>\n",
       "      <th>363</th>\n",
       "      <td>29</td>\n",
       "      <td>Raquete-de-Tênis</td>\n",
       "      <td>Esportes</td>\n",
       "      <td>2023-12-24</td>\n",
       "      <td>12</td>\n",
       "      <td>779.121182</td>\n",
       "    </tr>\n",
       "  </tbody>\n",
       "</table>\n",
       "<p>280 rows × 6 columns</p>\n",
       "</div>"
      ]
     },
     "execution_count": 60,
     "metadata": {},
     "output_type": "execute_result"
    }
   ],
   "execution_count": 60
  },
  {
   "metadata": {
    "ExecuteTime": {
     "end_time": "2025-10-03T18:45:30.050722Z",
     "start_time": "2025-10-03T18:45:30.040493Z"
    }
   },
   "cell_type": "code",
   "source": [
    "# fix the names and dates of products\n",
    "df['Data'] =  df['Data'].str.replace('.', '-') # fix the dot format\n",
    "df['Data'] = pd.to_datetime(df['Data'], format='%Y-%m-%d') # cast the date column from string to datetime\n",
    "df['Produto'] = df['Produto'].str.replace('-', ' ')\n",
    "df"
   ],
   "id": "8a08ac69d15e7059",
   "outputs": [
    {
     "data": {
      "text/plain": [
       "     ID            Produto  Categoria       Data  Quantidade       Preco\n",
       "0     7               Maçã     Frutas 2023-01-26           6  955.650872\n",
       "1     1              Calça  Vestuário 2023-01-11          11   71.776166\n",
       "3    17            Shampoo    Higiene 2023-01-13          20  879.306260\n",
       "5    15  Lâmina de Barbear    Higiene 2023-01-02          13  597.535338\n",
       "7    34      Sabão de Coco    Limpeza 2023-01-10          12  583.406201\n",
       "..   ..                ...        ...        ...         ...         ...\n",
       "358  33        Sabão em Pó    Limpeza 2023-12-12          17  157.626109\n",
       "359  12             Ameixa     Frutas 2023-12-17          16  921.758959\n",
       "361  17            Shampoo    Higiene 2023-12-13           1  695.927201\n",
       "362  18      Condicionador    Higiene 2023-12-03           4  992.604179\n",
       "363  29   Raquete de Tênis   Esportes 2023-12-24          12  779.121182\n",
       "\n",
       "[280 rows x 6 columns]"
      ],
      "text/html": [
       "<div>\n",
       "<style scoped>\n",
       "    .dataframe tbody tr th:only-of-type {\n",
       "        vertical-align: middle;\n",
       "    }\n",
       "\n",
       "    .dataframe tbody tr th {\n",
       "        vertical-align: top;\n",
       "    }\n",
       "\n",
       "    .dataframe thead th {\n",
       "        text-align: right;\n",
       "    }\n",
       "</style>\n",
       "<table border=\"1\" class=\"dataframe\">\n",
       "  <thead>\n",
       "    <tr style=\"text-align: right;\">\n",
       "      <th></th>\n",
       "      <th>ID</th>\n",
       "      <th>Produto</th>\n",
       "      <th>Categoria</th>\n",
       "      <th>Data</th>\n",
       "      <th>Quantidade</th>\n",
       "      <th>Preco</th>\n",
       "    </tr>\n",
       "  </thead>\n",
       "  <tbody>\n",
       "    <tr>\n",
       "      <th>0</th>\n",
       "      <td>7</td>\n",
       "      <td>Maçã</td>\n",
       "      <td>Frutas</td>\n",
       "      <td>2023-01-26</td>\n",
       "      <td>6</td>\n",
       "      <td>955.650872</td>\n",
       "    </tr>\n",
       "    <tr>\n",
       "      <th>1</th>\n",
       "      <td>1</td>\n",
       "      <td>Calça</td>\n",
       "      <td>Vestuário</td>\n",
       "      <td>2023-01-11</td>\n",
       "      <td>11</td>\n",
       "      <td>71.776166</td>\n",
       "    </tr>\n",
       "    <tr>\n",
       "      <th>3</th>\n",
       "      <td>17</td>\n",
       "      <td>Shampoo</td>\n",
       "      <td>Higiene</td>\n",
       "      <td>2023-01-13</td>\n",
       "      <td>20</td>\n",
       "      <td>879.306260</td>\n",
       "    </tr>\n",
       "    <tr>\n",
       "      <th>5</th>\n",
       "      <td>15</td>\n",
       "      <td>Lâmina de Barbear</td>\n",
       "      <td>Higiene</td>\n",
       "      <td>2023-01-02</td>\n",
       "      <td>13</td>\n",
       "      <td>597.535338</td>\n",
       "    </tr>\n",
       "    <tr>\n",
       "      <th>7</th>\n",
       "      <td>34</td>\n",
       "      <td>Sabão de Coco</td>\n",
       "      <td>Limpeza</td>\n",
       "      <td>2023-01-10</td>\n",
       "      <td>12</td>\n",
       "      <td>583.406201</td>\n",
       "    </tr>\n",
       "    <tr>\n",
       "      <th>...</th>\n",
       "      <td>...</td>\n",
       "      <td>...</td>\n",
       "      <td>...</td>\n",
       "      <td>...</td>\n",
       "      <td>...</td>\n",
       "      <td>...</td>\n",
       "    </tr>\n",
       "    <tr>\n",
       "      <th>358</th>\n",
       "      <td>33</td>\n",
       "      <td>Sabão em Pó</td>\n",
       "      <td>Limpeza</td>\n",
       "      <td>2023-12-12</td>\n",
       "      <td>17</td>\n",
       "      <td>157.626109</td>\n",
       "    </tr>\n",
       "    <tr>\n",
       "      <th>359</th>\n",
       "      <td>12</td>\n",
       "      <td>Ameixa</td>\n",
       "      <td>Frutas</td>\n",
       "      <td>2023-12-17</td>\n",
       "      <td>16</td>\n",
       "      <td>921.758959</td>\n",
       "    </tr>\n",
       "    <tr>\n",
       "      <th>361</th>\n",
       "      <td>17</td>\n",
       "      <td>Shampoo</td>\n",
       "      <td>Higiene</td>\n",
       "      <td>2023-12-13</td>\n",
       "      <td>1</td>\n",
       "      <td>695.927201</td>\n",
       "    </tr>\n",
       "    <tr>\n",
       "      <th>362</th>\n",
       "      <td>18</td>\n",
       "      <td>Condicionador</td>\n",
       "      <td>Higiene</td>\n",
       "      <td>2023-12-03</td>\n",
       "      <td>4</td>\n",
       "      <td>992.604179</td>\n",
       "    </tr>\n",
       "    <tr>\n",
       "      <th>363</th>\n",
       "      <td>29</td>\n",
       "      <td>Raquete de Tênis</td>\n",
       "      <td>Esportes</td>\n",
       "      <td>2023-12-24</td>\n",
       "      <td>12</td>\n",
       "      <td>779.121182</td>\n",
       "    </tr>\n",
       "  </tbody>\n",
       "</table>\n",
       "<p>280 rows × 6 columns</p>\n",
       "</div>"
      ]
     },
     "execution_count": 61,
     "metadata": {},
     "output_type": "execute_result"
    }
   ],
   "execution_count": 61
  },
  {
   "metadata": {},
   "cell_type": "markdown",
   "source": "1.1.3. Salvar o dataset limpo",
   "id": "4ed0b94047434b9d"
  },
  {
   "metadata": {
    "ExecuteTime": {
     "end_time": "2025-10-03T18:45:30.148045Z",
     "start_time": "2025-10-03T18:45:30.142045Z"
    }
   },
   "cell_type": "code",
   "source": [
    "# save the dataset\n",
    "df.to_csv('data_clean.csv', index=False)"
   ],
   "id": "417c032caffdf58e",
   "outputs": [],
   "execution_count": 62
  },
  {
   "metadata": {},
   "cell_type": "markdown",
   "source": "1.1.4. Calcular o total de vendas (Quantidade * Preço) por produto",
   "id": "f4b48f26a2ad3a0e"
  },
  {
   "metadata": {
    "ExecuteTime": {
     "end_time": "2025-10-03T18:45:30.273194Z",
     "start_time": "2025-10-03T18:45:30.268050Z"
    }
   },
   "cell_type": "code",
   "source": [
    "# calculate the total of sales of each row (price * quantity)\n",
    "df['Total de Vendas'] = df['Quantidade'] * df['Preco']\n",
    "df['Total de Vendas']"
   ],
   "id": "96442347d8e3c10f",
   "outputs": [
    {
     "data": {
      "text/plain": [
       "0       5733.905232\n",
       "1        789.537825\n",
       "3      17586.125207\n",
       "5       7767.959399\n",
       "7       7000.874410\n",
       "           ...     \n",
       "358     2679.643860\n",
       "359    14748.143348\n",
       "361      695.927201\n",
       "362     3970.416716\n",
       "363     9349.454187\n",
       "Name: Total de Vendas, Length: 280, dtype: float64"
      ]
     },
     "execution_count": 63,
     "metadata": {},
     "output_type": "execute_result"
    }
   ],
   "execution_count": 63
  },
  {
   "metadata": {},
   "cell_type": "markdown",
   "source": "1.1.5. Identificar o produto com o maior número de vendas totais",
   "id": "918ea41a31dbd90c"
  },
  {
   "metadata": {
    "ExecuteTime": {
     "end_time": "2025-10-03T18:45:30.319004Z",
     "start_time": "2025-10-03T18:45:30.312037Z"
    }
   },
   "cell_type": "code",
   "source": [
    "# display the quantity of sold units per product\n",
    "quantity_of_sold_products = df.groupby('Produto')['Quantidade'].sum()\n",
    "quantity_of_sold_products"
   ],
   "id": "dc108c454e0e3501",
   "outputs": [
    {
     "data": {
      "text/plain": [
       "Produto\n",
       "Absorvente            76\n",
       "Ameixa                74\n",
       "Banana                91\n",
       "Bola de Futebol      108\n",
       "Bola de Tênis         84\n",
       "Bola de Vôlei        106\n",
       "Calça                116\n",
       "Camisa               100\n",
       "Casaco                98\n",
       "Coca Cola             85\n",
       "Condicionador         78\n",
       "Creme Dental          55\n",
       "Cueca                 79\n",
       "Desinfetante          91\n",
       "Escova de Dente       58\n",
       "Fio Dental            71\n",
       "Guaraná               76\n",
       "Lâmina de Barbear     88\n",
       "Maçã                  51\n",
       "Meia                 121\n",
       "Pepsi                129\n",
       "Pera                  82\n",
       "Raquete de Tênis     120\n",
       "Sabão de Coco         79\n",
       "Sabão em Pó           82\n",
       "Shampoo              135\n",
       "Sprite               104\n",
       "Suco de Laranja       81\n",
       "Suco de Uva           44\n",
       "Sunga                 83\n",
       "Tâmara               105\n",
       "Tênis                 64\n",
       "Uva                   66\n",
       "Água                  97\n",
       "Água Sanitária        49\n",
       "Name: Quantidade, dtype: int64"
      ]
     },
     "execution_count": 64,
     "metadata": {},
     "output_type": "execute_result"
    }
   ],
   "execution_count": 64
  },
  {
   "metadata": {
    "ExecuteTime": {
     "end_time": "2025-10-04T01:57:20.890946Z",
     "start_time": "2025-10-04T01:57:20.886704Z"
    }
   },
   "cell_type": "code",
   "source": [
    "# display the most sold product\n",
    "most_sold_product_name, most_sold_product_quantity = quantity_of_sold_products.idxmax(), quantity_of_sold_products.max()\n",
    "most_sold_product_name, int(most_sold_product_quantity) # display a tuple (name, quantity)"
   ],
   "id": "577f9ea8c79ce3b",
   "outputs": [
    {
     "data": {
      "text/plain": [
       "('Shampoo', 135)"
      ]
     },
     "execution_count": 96,
     "metadata": {},
     "output_type": "execute_result"
    }
   ],
   "execution_count": 96
  },
  {
   "metadata": {},
   "cell_type": "markdown",
   "source": [
    "1.2. Análise Exploratória de Dados de Vendas\n",
    "\n",
    "1.2.1. Criar um gráfico de linha mostrando a tendência de vendas ao longo do tempo, analisando os dados mensalmente.\n"
   ],
   "id": "d71b59273219db05"
  },
  {
   "metadata": {
    "ExecuteTime": {
     "end_time": "2025-10-03T18:45:30.452284Z",
     "start_time": "2025-10-03T18:45:30.445283Z"
    }
   },
   "cell_type": "code",
   "source": [
    "import matplotlib.pyplot as plt\n",
    "\n",
    "df['Mes'] = df['Data'].dt.month\n",
    "monthly_total_sales = df.groupby('Mes')['Total de Vendas'].sum()\n",
    "monthly_mean_sales = df.groupby('Mes')['Total de Vendas'].mean()\n",
    "monthly_median_sales = df.groupby('Mes')['Total de Vendas'].median()\n",
    "monthly_mean_sales"
   ],
   "id": "eeaa6ca05d17b698",
   "outputs": [
    {
     "data": {
      "text/plain": [
       "Mes\n",
       "1     5742.656815\n",
       "2     5301.501556\n",
       "3     5377.240595\n",
       "4     6218.949333\n",
       "5     6054.207611\n",
       "6     7058.772875\n",
       "7     6369.222235\n",
       "8     5736.443084\n",
       "9     4509.398185\n",
       "10    4038.804668\n",
       "11    6127.371230\n",
       "12    5443.652614\n",
       "Name: Total de Vendas, dtype: float64"
      ]
     },
     "execution_count": 66,
     "metadata": {},
     "output_type": "execute_result"
    }
   ],
   "execution_count": 66
  },
  {
   "metadata": {
    "ExecuteTime": {
     "end_time": "2025-10-03T18:45:30.597450Z",
     "start_time": "2025-10-03T18:45:30.518813Z"
    }
   },
   "cell_type": "code",
   "source": [
    "plt.figure(figsize = (8, 4))\n",
    "plt.plot(monthly_mean_sales, label='Média de Vendas')\n",
    "plt.plot(monthly_median_sales, label='Mediana de Vendas')\n",
    "plt.xlabel('Mês')\n",
    "plt.ylabel('Faturamento em R$')\n",
    "plt.legend()\n",
    "plt.show()"
   ],
   "id": "eacf552da8dc8a17",
   "outputs": [
    {
     "data": {
      "text/plain": [
       "<Figure size 800x400 with 1 Axes>"
      ],
      "image/png": "[encoded data removed]"
     },
     "metadata": {},
     "output_type": "display_data"
    }
   ],
   "execution_count": 67
  },
  {
   "metadata": {},
   "cell_type": "markdown",
   "source": [
    "A média de vendas apresenta um aumento até o mês 6, atingindo o pico, e depois uma queda gradual até o mês 10, com uma recuperação leve nos meses 11 e 12.\n",
    "Isso sugere uma possível sazonalidade, em que o meio do ano apresenta melhores resultados de vendas e o final do ano, antes de novembro, tem um desempenho mais fraco.\n",
    "Além disso, a mediana de vendas está consistentemente abaixo da média na maioria dos meses, o que indica que existem alguns valores de vendas muito altos que estão puxando a média para cima."
   ],
   "id": "b6936e63fb590092"
  },
  {
   "metadata": {
    "ExecuteTime": {
     "end_time": "2025-10-03T18:45:30.693230Z",
     "start_time": "2025-10-03T18:45:30.620514Z"
    }
   },
   "cell_type": "code",
   "source": [
    "plt.figure(figsize = (8, 4))\n",
    "plt.plot(monthly_total_sales, label='Total de Vendas')\n",
    "plt.xlabel('Mês')\n",
    "plt.ylabel('Faturamento em R$')\n",
    "plt.legend()\n",
    "plt.show()"
   ],
   "id": "5cce7795193cdf5e",
   "outputs": [
    {
     "data": {
      "text/plain": [
       "<Figure size 800x400 with 1 Axes>"
      ],
      "image/png": "[encoded data removed]"
     },
     "metadata": {},
     "output_type": "display_data"
    }
   ],
   "execution_count": 68
  },
  {
   "metadata": {},
   "cell_type": "markdown",
   "source": "A função lê um arquivo CSV (data_clean.csv), percorre cada linha de dados e gera automaticamente comandos SQL INSERT INTO correspondentes. Esses comandos são escritos em um arquivo de saída chamado inserts.sql. O arquivo serve para facilitar o uso do banco de dados na questão seguinte.",
   "id": "2b319860b7beccc6"
  },
  {
   "metadata": {
    "ExecuteTime": {
     "end_time": "2025-10-03T19:17:51.932059Z",
     "start_time": "2025-10-03T19:17:51.927803Z"
    }
   },
   "cell_type": "code",
   "source": [
    "def to_sql():\n",
    "    '''\n",
    "    Read a CSV file (data_clean.csv), iterates over each data row, and automatically generates corresponding SQL INSERT INTO commands. These commands are then written to an output file called inserts.sql.\n",
    "    '''\n",
    "    with open('data_clean.csv', 'r', encoding='utf-8') as f:\n",
    "        reader = csv.reader(f)\n",
    "        next(reader)\n",
    "        inserts = open('inserts.sql', 'w', encoding='utf-8')\n",
    "        for row in reader:\n",
    "            sql_template = (\"INSERT INTO vendas (id_produto, nome, categoria, data, quantidade, preco) VALUES ({}, '{}', '{}', '{}', {}, {});\\n\" )\n",
    "\n",
    "            line = sql_template.format(row[0], row[1], row[2], row[3], row[4], row[5])\n",
    "            inserts.write(line)\n",
    "        inserts.close()"
   ],
   "id": "b4acd92ee3cb2044",
   "outputs": [],
   "execution_count": 94
  },
  {
   "metadata": {
    "ExecuteTime": {
     "end_time": "2025-10-03T19:17:52.906577Z",
     "start_time": "2025-10-03T19:17:52.901583Z"
    }
   },
   "cell_type": "code",
   "source": "to_sql()",
   "id": "4959bb6c8a306eed",
   "outputs": [],
   "execution_count": 95
  }
 ],
 "metadata": {
  "kernelspec": {
   "display_name": "Python 3",
   "language": "python",
   "name": "python3"
  },
  "language_info": {
   "codemirror_mode": {
    "name": "ipython",
    "version": 2
   },
   "file_extension": ".py",
   "mimetype": "text/x-python",
   "name": "python",
   "nbconvert_exporter": "python",
   "pygments_lexer": "ipython2",
   "version": "2.7.6"
  }
 },
 "nbformat": 4,
 "nbformat_minor": 5
}
